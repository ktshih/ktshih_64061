{
  "nbformat": 4,
  "nbformat_minor": 0,
  "metadata": {
    "colab": {
      "provenance": [],
      "machine_shape": "hm",
      "mount_file_id": "https://github.com/ktshih/ktshih_64061/blob/main/Assignment%203/Shih_Assignment3.ipynb",
      "authorship_tag": "ABX9TyPjpJOi2oA/FXtpyE6kICfv",
      "include_colab_link": true
    },
    "kernelspec": {
      "name": "python3",
      "display_name": "Python 3"
    },
    "language_info": {
      "name": "python"
    },
    "accelerator": "GPU",
    "gpuClass": "premium"
  },
  "cells": [
    {
      "cell_type": "markdown",
      "metadata": {
        "id": "view-in-github",
        "colab_type": "text"
      },
      "source": [
        "<a href=\"https://colab.research.google.com/github/ktshih/ktshih_64061/blob/main/Assignment%203/Shih_Assignment3.ipynb\" target=\"_parent\"><img src=\"https://colab.research.google.com/assets/colab-badge.svg\" alt=\"Open In Colab\"/></a>"
      ]
    },
    {
      "cell_type": "code",
      "execution_count": 13,
      "metadata": {
        "id": "2qGTNAc-01Xh",
        "outputId": "3be943b2-13a2-4a06-b575-fc298c4d2714",
        "colab": {
          "base_uri": "https://localhost:8080/"
        }
      },
      "outputs": [
        {
          "output_type": "stream",
          "name": "stdout",
          "text": [
            "Found 20000 files belonging to 2 classes.\n",
            "Found 5000 files belonging to 2 classes.\n",
            "Found 25000 files belonging to 2 classes.\n"
          ]
        }
      ],
      "source": [
        "# Mounting Google Drive\n",
        "# Using the Google Drive icon at the top of file file navigation panel\n",
        "# or uncomment the code below and run\n",
        "\n",
        "# drive.mount('/content/drive')\n",
        "\n",
        "# Preparing the IMDB movie reviews data\n",
        "!tar -xf /content/drive/MyDrive/Upload/KSUMPH/MIS64061/PYLibrary/aclImdb_v1.tar.gz -C /content\n",
        "!rm -r aclImdb/train/unsup\n",
        "\n",
        "# Preparing the data\n",
        "\n",
        "import os, pathlib, shutil, random\n",
        "from tensorflow import keras\n",
        "batch_size = 32\n",
        "base_dir = pathlib.Path(\"aclImdb\")\n",
        "val_dir = base_dir / \"val\"\n",
        "train_dir = base_dir / \"train\"\n",
        "for category in (\"neg\", \"pos\"):\n",
        "    os.makedirs(val_dir / category)\n",
        "    files = os.listdir(train_dir / category)\n",
        "    random.Random(1337).shuffle(files)\n",
        "    num_val_samples = int(0.2 * len(files))\n",
        "    val_files = files[-num_val_samples:]\n",
        "    for fname in val_files:\n",
        "        shutil.move(train_dir / category / fname,\n",
        "                    val_dir / category / fname)\n",
        "\n",
        "train_ds = keras.utils.text_dataset_from_directory(\n",
        "    \"aclImdb/train\", batch_size=batch_size\n",
        ")\n",
        "val_ds = keras.utils.text_dataset_from_directory(\n",
        "    \"aclImdb/val\", batch_size=batch_size\n",
        ")\n",
        "test_ds = keras.utils.text_dataset_from_directory(\n",
        "    \"aclImdb/test\", batch_size=batch_size\n",
        ")"
      ]
    },
    {
      "cell_type": "code",
      "source": [
        "# Preparing integer sequence datasets\n",
        "\n",
        "from tensorflow.keras import layers\n",
        "\n",
        "max_length = 600\n",
        "max_tokens = 20000\n",
        "text_vectorization = layers.TextVectorization(\n",
        "    max_tokens=max_tokens,\n",
        "    output_mode=\"int\",\n",
        "    output_sequence_length=max_length,\n",
        ")\n",
        "\n",
        "text_only_train_ds = train_ds.map(lambda x, y: x)\n",
        "text_vectorization.adapt(text_only_train_ds)\n",
        "\n",
        "int_train_ds = train_ds.map(\n",
        "    lambda x, y: (text_vectorization(x), y),\n",
        "    num_parallel_calls=4)\n",
        "int_val_ds = val_ds.map(\n",
        "    lambda x, y: (text_vectorization(x), y),\n",
        "    num_parallel_calls=4)\n",
        "int_test_ds = test_ds.map(\n",
        "    lambda x, y: (text_vectorization(x), y),\n",
        "    num_parallel_calls=4)\n"
      ],
      "metadata": {
        "id": "OMMgOw2gt1pp"
      },
      "execution_count": 14,
      "outputs": []
    },
    {
      "cell_type": "code",
      "source": [
        "# A sequence model built on one-hot encoded vector sequences\n",
        "\n",
        "import tensorflow as tf\n",
        "inputs = keras.Input(shape=(None,), dtype=\"int64\")\n",
        "embedded = tf.one_hot(inputs, depth=max_tokens)\n",
        "x = layers.Bidirectional(layers.LSTM(32))(embedded)\n",
        "x = layers.Dropout(0.5)(x)\n",
        "outputs = layers.Dense(1, activation=\"sigmoid\")(x)\n",
        "model = keras.Model(inputs, outputs)\n",
        "model.compile(optimizer=\"adam\",\n",
        "              loss=\"binary_crossentropy\",\n",
        "              metrics=[\"accuracy\"])\n",
        "model.summary()\n"
      ],
      "metadata": {
        "id": "A_DVB2ICuMHZ",
        "outputId": "f20fc2a3-8507-4b0b-8275-105b4cc5e499",
        "colab": {
          "base_uri": "https://localhost:8080/"
        }
      },
      "execution_count": 15,
      "outputs": [
        {
          "output_type": "stream",
          "name": "stdout",
          "text": [
            "Model: \"model_4\"\n",
            "_________________________________________________________________\n",
            " Layer (type)                Output Shape              Param #   \n",
            "=================================================================\n",
            " input_5 (InputLayer)        [(None, None)]            0         \n",
            "                                                                 \n",
            " tf.one_hot (TFOpLambda)     (None, None, 20000)       0         \n",
            "                                                                 \n",
            " bidirectional (Bidirectiona  (None, 64)               5128448   \n",
            " l)                                                              \n",
            "                                                                 \n",
            " dropout_3 (Dropout)         (None, 64)                0         \n",
            "                                                                 \n",
            " dense_6 (Dense)             (None, 1)                 65        \n",
            "                                                                 \n",
            "=================================================================\n",
            "Total params: 5,128,513\n",
            "Trainable params: 5,128,513\n",
            "Non-trainable params: 0\n",
            "_________________________________________________________________\n"
          ]
        }
      ]
    },
    {
      "cell_type": "code",
      "source": [
        "# Training a first basic sequence model\n",
        "\n",
        "callbacks = [\n",
        "    keras.callbacks.ModelCheckpoint(\"one_hot_bidir_lstm.keras\",\n",
        "                                    save_best_only=True)\n",
        "]\n",
        "model.fit(int_train_ds, validation_data=int_val_ds, epochs=10, callbacks=callbacks)\n",
        "model = keras.models.load_model(\"one_hot_bidir_lstm.keras\")\n",
        "print(f\"Test acc: {model.evaluate(int_test_ds)[1]:.3f}\")\n"
      ],
      "metadata": {
        "id": "m1QAmJbkuTdq",
        "outputId": "a3cb5a56-a280-4f78-b803-f5ab91b3d262",
        "colab": {
          "base_uri": "https://localhost:8080/"
        }
      },
      "execution_count": 16,
      "outputs": [
        {
          "output_type": "stream",
          "name": "stdout",
          "text": [
            "Epoch 1/10\n",
            "625/625 [==============================] - 49s 68ms/step - loss: 0.5077 - accuracy: 0.7621 - val_loss: 0.4690 - val_accuracy: 0.7854\n",
            "Epoch 2/10\n",
            "625/625 [==============================] - 42s 67ms/step - loss: 0.3323 - accuracy: 0.8802 - val_loss: 0.2826 - val_accuracy: 0.8920\n",
            "Epoch 3/10\n",
            "625/625 [==============================] - 42s 67ms/step - loss: 0.2700 - accuracy: 0.9062 - val_loss: 0.2776 - val_accuracy: 0.8942\n",
            "Epoch 4/10\n",
            "625/625 [==============================] - 42s 67ms/step - loss: 0.2311 - accuracy: 0.9205 - val_loss: 0.2893 - val_accuracy: 0.8978\n",
            "Epoch 5/10\n",
            "625/625 [==============================] - 42s 67ms/step - loss: 0.2043 - accuracy: 0.9320 - val_loss: 0.3961 - val_accuracy: 0.8866\n",
            "Epoch 6/10\n",
            "625/625 [==============================] - 42s 67ms/step - loss: 0.1851 - accuracy: 0.9389 - val_loss: 0.3028 - val_accuracy: 0.8882\n",
            "Epoch 7/10\n",
            "625/625 [==============================] - 42s 67ms/step - loss: 0.1605 - accuracy: 0.9477 - val_loss: 0.3069 - val_accuracy: 0.8924\n",
            "Epoch 8/10\n",
            "625/625 [==============================] - 42s 67ms/step - loss: 0.1475 - accuracy: 0.9524 - val_loss: 0.5044 - val_accuracy: 0.8736\n",
            "Epoch 9/10\n",
            "625/625 [==============================] - 42s 67ms/step - loss: 0.1302 - accuracy: 0.9567 - val_loss: 0.3228 - val_accuracy: 0.8896\n",
            "Epoch 10/10\n",
            "625/625 [==============================] - 42s 67ms/step - loss: 0.1157 - accuracy: 0.9614 - val_loss: 0.3833 - val_accuracy: 0.8832\n",
            "782/782 [==============================] - 28s 35ms/step - loss: 0.3011 - accuracy: 0.8823\n",
            "Test acc: 0.882\n"
          ]
        }
      ]
    },
    {
      "cell_type": "code",
      "source": [
        "# Instantiating an Embedding layer\n",
        "\n",
        "embedding_layer = layers.Embedding(input_dim=max_tokens, output_dim=256)\n",
        "\n",
        "# Model that uses an Embedding layer trained from scratch\n",
        "\n",
        "inputs = keras.Input(shape=(None,), dtype=\"int64\")\n",
        "embedded = layers.Embedding(input_dim=max_tokens, output_dim=256)(inputs)\n",
        "x = layers.Bidirectional(layers.LSTM(32))(embedded)\n",
        "x = layers.Dropout(0.5)(x)\n",
        "outputs = layers.Dense(1, activation=\"sigmoid\")(x)\n",
        "model = keras.Model(inputs, outputs)\n",
        "model.compile(optimizer=\"adam\",\n",
        "              loss=\"binary_crossentropy\",\n",
        "              metrics=[\"accuracy\"])\n",
        "model.summary()\n",
        "\n",
        "callbacks = [\n",
        "    keras.callbacks.ModelCheckpoint(\"embeddings_bidir_gru.keras\",\n",
        "                                    save_best_only=True)\n",
        "]\n",
        "model.fit(int_train_ds, validation_data=int_val_ds, epochs=10, callbacks=callbacks)\n",
        "model = keras.models.load_model(\"embeddings_bidir_gru.keras\")\n",
        "print(f\"Test acc: {model.evaluate(int_test_ds)[1]:.3f}\")\n"
      ],
      "metadata": {
        "id": "o_2PGL_HxtrQ",
        "outputId": "b70aeb9e-2b6a-49bf-9988-7cf356b6c857",
        "colab": {
          "base_uri": "https://localhost:8080/"
        }
      },
      "execution_count": 17,
      "outputs": [
        {
          "output_type": "stream",
          "name": "stdout",
          "text": [
            "Model: \"model_5\"\n",
            "_________________________________________________________________\n",
            " Layer (type)                Output Shape              Param #   \n",
            "=================================================================\n",
            " input_6 (InputLayer)        [(None, None)]            0         \n",
            "                                                                 \n",
            " embedding_1 (Embedding)     (None, None, 256)         5120000   \n",
            "                                                                 \n",
            " bidirectional_1 (Bidirectio  (None, 64)               73984     \n",
            " nal)                                                            \n",
            "                                                                 \n",
            " dropout_4 (Dropout)         (None, 64)                0         \n",
            "                                                                 \n",
            " dense_7 (Dense)             (None, 1)                 65        \n",
            "                                                                 \n",
            "=================================================================\n",
            "Total params: 5,194,049\n",
            "Trainable params: 5,194,049\n",
            "Non-trainable params: 0\n",
            "_________________________________________________________________\n",
            "Epoch 1/10\n",
            "625/625 [==============================] - 37s 55ms/step - loss: 0.4758 - accuracy: 0.7867 - val_loss: 0.3315 - val_accuracy: 0.8754\n",
            "Epoch 2/10\n",
            "625/625 [==============================] - 34s 54ms/step - loss: 0.3059 - accuracy: 0.8888 - val_loss: 0.2921 - val_accuracy: 0.8850\n",
            "Epoch 3/10\n",
            "625/625 [==============================] - 34s 54ms/step - loss: 0.2446 - accuracy: 0.9172 - val_loss: 0.3473 - val_accuracy: 0.8778\n",
            "Epoch 4/10\n",
            "625/625 [==============================] - 34s 54ms/step - loss: 0.2086 - accuracy: 0.9295 - val_loss: 0.3204 - val_accuracy: 0.8744\n",
            "Epoch 5/10\n",
            "625/625 [==============================] - 34s 54ms/step - loss: 0.1735 - accuracy: 0.9420 - val_loss: 0.3398 - val_accuracy: 0.8518\n",
            "Epoch 6/10\n",
            "625/625 [==============================] - 34s 54ms/step - loss: 0.1471 - accuracy: 0.9523 - val_loss: 0.3226 - val_accuracy: 0.8870\n",
            "Epoch 7/10\n",
            "625/625 [==============================] - 34s 54ms/step - loss: 0.1221 - accuracy: 0.9599 - val_loss: 0.3566 - val_accuracy: 0.8880\n",
            "Epoch 8/10\n",
            "625/625 [==============================] - 34s 54ms/step - loss: 0.1039 - accuracy: 0.9659 - val_loss: 0.4256 - val_accuracy: 0.8828\n",
            "Epoch 9/10\n",
            "625/625 [==============================] - 34s 54ms/step - loss: 0.0891 - accuracy: 0.9714 - val_loss: 0.3690 - val_accuracy: 0.8724\n",
            "Epoch 10/10\n",
            "625/625 [==============================] - 33s 53ms/step - loss: 0.0748 - accuracy: 0.9764 - val_loss: 0.4550 - val_accuracy: 0.8790\n",
            "782/782 [==============================] - 21s 26ms/step - loss: 0.3218 - accuracy: 0.8726\n",
            "Test acc: 0.873\n"
          ]
        }
      ]
    },
    {
      "cell_type": "code",
      "source": [
        "# Using an Embedding layer with masking enabled\n",
        "\n",
        "inputs = keras.Input(shape=(None,), dtype=\"int64\")\n",
        "embedded = layers.Embedding(\n",
        "    input_dim=max_tokens, output_dim=256, mask_zero=True)(inputs)\n",
        "x = layers.Bidirectional(layers.LSTM(32))(embedded)\n",
        "x = layers.Dropout(0.5)(x)\n",
        "outputs = layers.Dense(1, activation=\"sigmoid\")(x)\n",
        "model = keras.Model(inputs, outputs)\n",
        "model.compile(optimizer=\"adam\",\n",
        "              loss=\"binary_crossentropy\",\n",
        "              metrics=[\"accuracy\"])\n",
        "model.summary()\n",
        "\n",
        "callbacks = [\n",
        "    keras.callbacks.ModelCheckpoint(\"embeddings_bidir_gru_with_masking.keras\",\n",
        "                                    save_best_only=True)\n",
        "]\n",
        "model.fit(int_train_ds, validation_data=int_val_ds, epochs=10, callbacks=callbacks)\n",
        "model = keras.models.load_model(\"embeddings_bidir_gru_with_masking.keras\")\n",
        "print(f\"Test acc: {model.evaluate(int_test_ds)[1]:.3f}\")\n"
      ],
      "metadata": {
        "id": "Hy8pl0ZNx9PR",
        "outputId": "8de78a79-9a15-44d2-cf29-406dddad1874",
        "colab": {
          "base_uri": "https://localhost:8080/"
        }
      },
      "execution_count": 18,
      "outputs": [
        {
          "output_type": "stream",
          "name": "stdout",
          "text": [
            "Model: \"model_6\"\n",
            "_________________________________________________________________\n",
            " Layer (type)                Output Shape              Param #   \n",
            "=================================================================\n",
            " input_7 (InputLayer)        [(None, None)]            0         \n",
            "                                                                 \n",
            " embedding_2 (Embedding)     (None, None, 256)         5120000   \n",
            "                                                                 \n",
            " bidirectional_2 (Bidirectio  (None, 64)               73984     \n",
            " nal)                                                            \n",
            "                                                                 \n",
            " dropout_5 (Dropout)         (None, 64)                0         \n",
            "                                                                 \n",
            " dense_8 (Dense)             (None, 1)                 65        \n",
            "                                                                 \n",
            "=================================================================\n",
            "Total params: 5,194,049\n",
            "Trainable params: 5,194,049\n",
            "Non-trainable params: 0\n",
            "_________________________________________________________________\n",
            "Epoch 1/10\n",
            "625/625 [==============================] - 43s 57ms/step - loss: 0.4751 - accuracy: 0.7714 - val_loss: 0.3490 - val_accuracy: 0.8570\n",
            "Epoch 2/10\n",
            "625/625 [==============================] - 33s 53ms/step - loss: 0.2388 - accuracy: 0.9076 - val_loss: 0.3221 - val_accuracy: 0.8772\n",
            "Epoch 3/10\n",
            "625/625 [==============================] - 33s 53ms/step - loss: 0.1281 - accuracy: 0.9543 - val_loss: 0.3718 - val_accuracy: 0.8724\n",
            "Epoch 4/10\n",
            "625/625 [==============================] - 33s 52ms/step - loss: 0.0758 - accuracy: 0.9745 - val_loss: 0.4393 - val_accuracy: 0.8722\n",
            "Epoch 5/10\n",
            "625/625 [==============================] - 33s 52ms/step - loss: 0.0446 - accuracy: 0.9852 - val_loss: 0.5257 - val_accuracy: 0.8538\n",
            "Epoch 6/10\n",
            "625/625 [==============================] - 33s 53ms/step - loss: 0.0349 - accuracy: 0.9887 - val_loss: 0.5812 - val_accuracy: 0.8580\n",
            "Epoch 7/10\n",
            "625/625 [==============================] - 33s 52ms/step - loss: 0.0293 - accuracy: 0.9902 - val_loss: 0.5442 - val_accuracy: 0.8534\n",
            "Epoch 8/10\n",
            "625/625 [==============================] - 33s 53ms/step - loss: 0.0179 - accuracy: 0.9941 - val_loss: 0.6138 - val_accuracy: 0.8606\n",
            "Epoch 9/10\n",
            "625/625 [==============================] - 33s 52ms/step - loss: 0.0182 - accuracy: 0.9941 - val_loss: 0.6062 - val_accuracy: 0.8638\n",
            "Epoch 10/10\n",
            "625/625 [==============================] - 33s 52ms/step - loss: 0.0226 - accuracy: 0.9923 - val_loss: 0.6100 - val_accuracy: 0.8412\n",
            "782/782 [==============================] - 22s 25ms/step - loss: 0.3522 - accuracy: 0.8595\n",
            "Test acc: 0.860\n"
          ]
        }
      ]
    },
    {
      "cell_type": "code",
      "source": [
        "# Using pretrained word embeddings\n",
        "!unzip -q /content/drive/MyDrive/Upload/KSUMPH/MIS64061/PYLibrary/glove.6B.zip -d /content\n",
        "\n",
        "# Parsing the GloVe word-embeddings file\n",
        "import numpy as np\n",
        "path_to_glove_file = \"glove.6B.100d.txt\"\n",
        "\n",
        "embeddings_index = {}\n",
        "with open(path_to_glove_file) as f:\n",
        "    for line in f:\n",
        "        word, coefs = line.split(maxsplit=1)\n",
        "        coefs = np.fromstring(coefs, \"f\", sep=\" \")\n",
        "        embeddings_index[word] = coefs\n",
        "\n",
        "print(f\"Found {len(embeddings_index)} word vectors.\")\n",
        "\n",
        "# Preparing the GloVe word-embeddings matrix\n",
        "embedding_dim = 100\n",
        "\n",
        "vocabulary = text_vectorization.get_vocabulary()\n",
        "word_index = dict(zip(vocabulary, range(len(vocabulary))))\n",
        "\n",
        "embedding_matrix = np.zeros((max_tokens, embedding_dim))\n",
        "for word, i in word_index.items():\n",
        "    if i < max_tokens:\n",
        "        embedding_vector = embeddings_index.get(word)\n",
        "    if embedding_vector is not None:\n",
        "        embedding_matrix[i] = embedding_vector\n",
        "embedding_layer = layers.Embedding(\n",
        "    max_tokens,\n",
        "    embedding_dim,\n",
        "    embeddings_initializer=keras.initializers.Constant(embedding_matrix),\n",
        "    trainable=False,\n",
        "    mask_zero=True,\n",
        ")\n"
      ],
      "metadata": {
        "id": "XDRKYTpEyJHx",
        "outputId": "29ee815f-f978-4e4e-83fb-411b8fc6d0ab",
        "colab": {
          "base_uri": "https://localhost:8080/"
        }
      },
      "execution_count": 19,
      "outputs": [
        {
          "output_type": "stream",
          "name": "stdout",
          "text": [
            "Found 400000 word vectors.\n"
          ]
        }
      ]
    },
    {
      "cell_type": "code",
      "source": [
        "# Model that uses a pretrained Embedding layer\n",
        "\n",
        "inputs = keras.Input(shape=(None,), dtype=\"int64\")\n",
        "embedded = embedding_layer(inputs)\n",
        "x = layers.Bidirectional(layers.LSTM(32))(embedded)\n",
        "x = layers.Dropout(0.5)(x)\n",
        "outputs = layers.Dense(1, activation=\"sigmoid\")(x)\n",
        "model = keras.Model(inputs, outputs)\n",
        "model.compile(optimizer=\"adam\",\n",
        "              loss=\"binary_crossentropy\",\n",
        "              metrics=[\"accuracy\"])\n",
        "model.summary()\n",
        "\n",
        "callbacks = [\n",
        "    keras.callbacks.ModelCheckpoint(\"glove_embeddings_sequence_model.keras\",\n",
        "                                    save_best_only=True)\n",
        "]\n",
        "model.fit(int_train_ds, validation_data=int_val_ds, epochs=10, callbacks=callbacks)\n",
        "model = keras.models.load_model(\"glove_embeddings_sequence_model.keras\")\n",
        "print(f\"Test acc: {model.evaluate(int_test_ds)[1]:.3f}\")\n"
      ],
      "metadata": {
        "id": "neRnd9f5yl3s",
        "outputId": "81c31fb4-b666-4f3e-81b2-cddea25df7ae",
        "colab": {
          "base_uri": "https://localhost:8080/"
        }
      },
      "execution_count": 20,
      "outputs": [
        {
          "output_type": "stream",
          "name": "stdout",
          "text": [
            "Model: \"model_7\"\n",
            "_________________________________________________________________\n",
            " Layer (type)                Output Shape              Param #   \n",
            "=================================================================\n",
            " input_8 (InputLayer)        [(None, None)]            0         \n",
            "                                                                 \n",
            " embedding_3 (Embedding)     (None, None, 100)         2000000   \n",
            "                                                                 \n",
            " bidirectional_3 (Bidirectio  (None, 64)               34048     \n",
            " nal)                                                            \n",
            "                                                                 \n",
            " dropout_6 (Dropout)         (None, 64)                0         \n",
            "                                                                 \n",
            " dense_9 (Dense)             (None, 1)                 65        \n",
            "                                                                 \n",
            "=================================================================\n",
            "Total params: 2,034,113\n",
            "Trainable params: 34,113\n",
            "Non-trainable params: 2,000,000\n",
            "_________________________________________________________________\n",
            "Epoch 1/10\n",
            "625/625 [==============================] - 42s 54ms/step - loss: 0.6247 - accuracy: 0.6458 - val_loss: 0.5424 - val_accuracy: 0.7592\n",
            "Epoch 2/10\n",
            "625/625 [==============================] - 32s 51ms/step - loss: 0.4873 - accuracy: 0.7753 - val_loss: 0.4141 - val_accuracy: 0.8160\n",
            "Epoch 3/10\n",
            "625/625 [==============================] - 32s 51ms/step - loss: 0.4084 - accuracy: 0.8209 - val_loss: 0.3838 - val_accuracy: 0.8280\n",
            "Epoch 4/10\n",
            "625/625 [==============================] - 32s 51ms/step - loss: 0.3688 - accuracy: 0.8411 - val_loss: 0.3661 - val_accuracy: 0.8360\n",
            "Epoch 5/10\n",
            "625/625 [==============================] - 32s 51ms/step - loss: 0.3429 - accuracy: 0.8539 - val_loss: 0.3503 - val_accuracy: 0.8438\n",
            "Epoch 6/10\n",
            "625/625 [==============================] - 32s 51ms/step - loss: 0.3172 - accuracy: 0.8680 - val_loss: 0.3276 - val_accuracy: 0.8652\n",
            "Epoch 7/10\n",
            "625/625 [==============================] - 30s 49ms/step - loss: 0.2994 - accuracy: 0.8773 - val_loss: 0.3315 - val_accuracy: 0.8668\n",
            "Epoch 8/10\n",
            "625/625 [==============================] - 32s 51ms/step - loss: 0.2794 - accuracy: 0.8865 - val_loss: 0.3241 - val_accuracy: 0.8660\n",
            "Epoch 9/10\n",
            "625/625 [==============================] - 32s 51ms/step - loss: 0.2659 - accuracy: 0.8923 - val_loss: 0.3124 - val_accuracy: 0.8746\n",
            "Epoch 10/10\n",
            "625/625 [==============================] - 30s 49ms/step - loss: 0.2492 - accuracy: 0.8985 - val_loss: 0.3209 - val_accuracy: 0.8738\n",
            "782/782 [==============================] - 19s 22ms/step - loss: 0.2957 - accuracy: 0.8774\n",
            "Test acc: 0.877\n"
          ]
        }
      ]
    }
  ]
}