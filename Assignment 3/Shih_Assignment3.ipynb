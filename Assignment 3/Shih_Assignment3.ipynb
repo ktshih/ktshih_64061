{
  "nbformat": 4,
  "nbformat_minor": 0,
  "metadata": {
    "colab": {
      "provenance": [],
      "machine_shape": "hm",
      "mount_file_id": "https://github.com/ktshih/ktshih_64061/blob/main/Assignment%203/Shih_Assignment3.ipynb",
      "authorship_tag": "ABX9TyOqc5SMH7fh869jnqPlM4Ry",
      "include_colab_link": true
    },
    "kernelspec": {
      "name": "python3",
      "display_name": "Python 3"
    },
    "language_info": {
      "name": "python"
    },
    "accelerator": "GPU",
    "gpuClass": "premium"
  },
  "cells": [
    {
      "cell_type": "markdown",
      "metadata": {
        "id": "view-in-github",
        "colab_type": "text"
      },
      "source": [
        "<a href=\"https://colab.research.google.com/github/ktshih/ktshih_64061/blob/main/Assignment%203/Shih_Assignment3.ipynb\" target=\"_parent\"><img src=\"https://colab.research.google.com/assets/colab-badge.svg\" alt=\"Open In Colab\"/></a>"
      ]
    },
    {
      "cell_type": "code",
      "execution_count": null,
      "metadata": {
        "id": "2qGTNAc-01Xh"
      },
      "outputs": [],
      "source": [
        "# Mounting Google Drive\n",
        "# Using the Google Drive icon at the top of file file navigation panel\n",
        "# or uncomment the code below and run\n",
        "\n",
        "# drive.mount('/content/drive')\n",
        "\n",
        "# Loading the IMDB movie reviews data\n",
        "!tar -xf /content/drive/MyDrive/Upload/KSUMPH/MIS64061/PYLibrary/aclImdb_v1.tar.gz -C /content\n",
        "!rm -r aclImdb/train/unsup\n",
        "\n",
        "# Loading the pretrained embeddings data GLoVe\n",
        "!unzip -q /content/drive/MyDrive/Upload/KSUMPH/MIS64061/PYLibrary/glove.6B.zip -d /content\n"
      ]
    },
    {
      "cell_type": "code",
      "source": [
        "# Delete previously created folders\n",
        "!rm -rf aclImdb/train1\n",
        "!rm -rf aclImdb/val\n",
        "\n",
        "# Parameters\n",
        "Ntrain = 10000\n",
        "# Ntrain = 100\n",
        "Nval = 2500\n",
        "# Nval = 10000\n",
        "Nword = 600\n",
        "# Nword = 150\n",
        "Ntoken = 20000\n",
        "# Ntoken = 10000\n",
        "\n",
        "# Preparing the IMDB reviews data\n",
        "\n",
        "import os, pathlib, shutil, random\n",
        "from tensorflow import keras\n",
        "batch_size = 32\n",
        "base_dir = pathlib.Path(\"aclImdb\")\n",
        "val_dir = base_dir / \"val\"\n",
        "train_dir = base_dir / \"train\"\n",
        "train1_dir = base_dir / \"train1\"\n",
        "for category in (\"neg\", \"pos\"):\n",
        "    os.makedirs(val_dir / category)\n",
        "    os.makedirs(train1_dir / category)\n",
        "    files = os.listdir(train_dir / category)\n",
        "    random.Random(1337).shuffle(files)\n",
        "    # num_val_samples = int(0.2 * len(files))\n",
        "    num_val_samples = Nval\n",
        "    val_files = files[-num_val_samples:]\n",
        "    for fname in val_files:\n",
        "        shutil.copy(train_dir / category / fname,\n",
        "                    val_dir / category / fname)\n",
        "\n",
        "    train_files = files[:Ntrain]\n",
        "    for fname in train_files:\n",
        "        shutil.copy(train_dir / category / fname,\n",
        "                    train1_dir / category / fname)    \n",
        "\n",
        "train_ds = keras.utils.text_dataset_from_directory(\n",
        "    # \"aclImdb/train\", batch_size=batch_size\n",
        "    \"aclImdb/train1\", batch_size=batch_size\n",
        ")\n",
        "val_ds = keras.utils.text_dataset_from_directory(\n",
        "    \"aclImdb/val\", batch_size=batch_size\n",
        ")\n",
        "test_ds = keras.utils.text_dataset_from_directory(\n",
        "    \"aclImdb/test\", batch_size=batch_size\n",
        ")\n",
        "\n",
        "\n",
        "# Preparing integer sequence datasets\n",
        "\n",
        "from tensorflow.keras import layers\n",
        "max_length = Nword\n",
        "max_tokens = Ntoken\n",
        "text_vectorization = layers.TextVectorization(\n",
        "    max_tokens=max_tokens,\n",
        "    output_mode=\"int\",\n",
        "    output_sequence_length=max_length,\n",
        ")\n",
        "\n",
        "text_only_train_ds = train_ds.map(lambda x, y: x)\n",
        "text_vectorization.adapt(text_only_train_ds)\n",
        "\n",
        "int_train_ds = train_ds.map(\n",
        "    lambda x, y: (text_vectorization(x), y),\n",
        "    num_parallel_calls=4)\n",
        "int_val_ds = val_ds.map(\n",
        "    lambda x, y: (text_vectorization(x), y),\n",
        "    num_parallel_calls=4)\n",
        "int_test_ds = test_ds.map(\n",
        "    lambda x, y: (text_vectorization(x), y),\n",
        "    num_parallel_calls=4)\n"
      ],
      "metadata": {
        "id": "OMMgOw2gt1pp"
      },
      "execution_count": null,
      "outputs": []
    },
    {
      "cell_type": "code",
      "source": [
        "# Baseline\n",
        "\n",
        "# A sequence model built on one-hot encoded vector sequences\n",
        "\n",
        "import tensorflow as tf\n",
        "inputs = keras.Input(shape=(None,), dtype=\"int64\")\n",
        "embedded = tf.one_hot(inputs, depth=max_tokens)\n",
        "x = layers.Bidirectional(layers.LSTM(32))(embedded)\n",
        "x = layers.Dropout(0.5)(x)\n",
        "outputs = layers.Dense(1, activation=\"sigmoid\")(x)\n",
        "model = keras.Model(inputs, outputs)\n",
        "model.compile(optimizer=\"rmsprop\",\n",
        "              loss=\"binary_crossentropy\",\n",
        "              metrics=[\"accuracy\"])\n",
        "model.summary()\n",
        "\n",
        "# Training a first basic sequence model\n",
        "\n",
        "callbacks = [\n",
        "    keras.callbacks.ModelCheckpoint(\"one_hot_bidir_lstm.keras\",\n",
        "                                    save_best_only=True)\n",
        "]\n",
        "history = model.fit(int_train_ds, validation_data=int_val_ds, epochs=10, callbacks=callbacks)\n",
        "model = keras.models.load_model(\"one_hot_bidir_lstm.keras\")\n",
        "# print(f\"Test acc: {model.evaluate(int_test_ds)[1]:.3f}\")\n",
        "test_acc = model.evaluate(int_test_ds)[1]\n",
        "print(f\"Test acc: {test_acc:.3f}\")\n",
        "\n",
        "\n",
        "# Displaying curves of loss and accuracy during training\n",
        "\n",
        "import matplotlib.pyplot as plt\n",
        "accuracy = history.history[\"accuracy\"]\n",
        "val_accuracy = history.history[\"val_accuracy\"]\n",
        "loss = history.history[\"loss\"]\n",
        "val_loss = history.history[\"val_loss\"]\n",
        "epochs = range(1, len(accuracy) + 1)\n",
        "\n",
        "plt.figure()\n",
        "plt.plot(epochs, accuracy, \"bo\", label=\"Training accuracy\")\n",
        "plt.plot(epochs, val_accuracy, \"b\", label=\"Validation accuracy\")\n",
        "plt.title(\"Training and validation accuracy\")\n",
        "plt.legend()\n",
        "fig1 = plt.gcf()\n",
        "pngName = \"Baseline_accuracy.png\"\n",
        "fig1.savefig(pngName)\n",
        "\n",
        "plt.figure()\n",
        "plt.plot(epochs, loss, \"bo\", label=\"Training loss\")\n",
        "plt.plot(epochs, val_loss, \"b\", label=\"Validation loss\")\n",
        "plt.title(\"Training and validation loss\")\n",
        "plt.legend()\n",
        "fig2 = plt.gcf()\n",
        "pngName = \"Baseline_loss.png\"\n",
        "fig2.savefig(pngName)\n",
        "\n",
        "\n",
        "import time\n",
        "timestr = time.strftime(\"%Y%m%d-%H%M%S\")\n",
        "import contextlib\n",
        "file_path = 'stdout.txt'\n",
        "with open(file_path, \"a\") as o:\n",
        "    with contextlib.redirect_stdout(o):\n",
        "        print(f\"stdout file written time: {timestr}\")\n",
        "        print(f\"Ntrain={Ntrain}\")\n",
        "        print(f\"Nval={Nval}\")\n",
        "        print(f\"Nword={Nword}\")\n",
        "        print(f\"Ntoken={Ntoken}\")\n",
        "        print(f\"Baseline Test accuracy: {test_acc:.3f}\")\n",
        "\n",
        "# Copying outpot files to Google Drive\n",
        "GDrivePath = \"/content/drive/MyDrive/Upload/KSUMPH/MIS64061/PYLibrary/Colab\"\n",
        "\n",
        "import time\n",
        "timestr = time.strftime(\"%Y%m%d-%H%M%S\")\n",
        "\n",
        "import os, shutil, glob\n",
        "os.mkdir(timestr)\n",
        "shutil.move(\"stdout.txt\", timestr)\n",
        "pngFiles = glob.glob(\"*.png\")\n",
        "for f in pngFiles: shutil.move(f, timestr)\n",
        "shutil.move(timestr, GDrivePath)"
      ],
      "metadata": {
        "id": "A_DVB2ICuMHZ",
        "colab": {
          "base_uri": "https://localhost:8080/",
          "height": 1000
        },
        "outputId": "595e786a-ed18-49ef-95d6-0f236fbddea2"
      },
      "execution_count": 7,
      "outputs": [
        {
          "output_type": "stream",
          "name": "stdout",
          "text": [
            "Model: \"model_4\"\n",
            "_________________________________________________________________\n",
            " Layer (type)                Output Shape              Param #   \n",
            "=================================================================\n",
            " input_5 (InputLayer)        [(None, None)]            0         \n",
            "                                                                 \n",
            " tf.one_hot_1 (TFOpLambda)   (None, None, 20000)       0         \n",
            "                                                                 \n",
            " bidirectional_4 (Bidirectio  (None, 64)               5128448   \n",
            " nal)                                                            \n",
            "                                                                 \n",
            " dropout_4 (Dropout)         (None, 64)                0         \n",
            "                                                                 \n",
            " dense_4 (Dense)             (None, 1)                 65        \n",
            "                                                                 \n",
            "=================================================================\n",
            "Total params: 5,128,513\n",
            "Trainable params: 5,128,513\n",
            "Non-trainable params: 0\n",
            "_________________________________________________________________\n",
            "Epoch 1/10\n",
            "625/625 [==============================] - 168s 264ms/step - loss: 0.5287 - accuracy: 0.7508 - val_loss: 0.3829 - val_accuracy: 0.8628\n",
            "Epoch 2/10\n",
            "625/625 [==============================] - 166s 265ms/step - loss: 0.3575 - accuracy: 0.8619 - val_loss: 0.4030 - val_accuracy: 0.8634\n",
            "Epoch 3/10\n",
            "625/625 [==============================] - 165s 265ms/step - loss: 0.2722 - accuracy: 0.9032 - val_loss: 0.2864 - val_accuracy: 0.8880\n",
            "Epoch 4/10\n",
            "625/625 [==============================] - 165s 263ms/step - loss: 0.2324 - accuracy: 0.9170 - val_loss: 0.2921 - val_accuracy: 0.8918\n",
            "Epoch 5/10\n",
            "625/625 [==============================] - 166s 266ms/step - loss: 0.2060 - accuracy: 0.9291 - val_loss: 0.3563 - val_accuracy: 0.8562\n",
            "Epoch 6/10\n",
            "625/625 [==============================] - 166s 266ms/step - loss: 0.1797 - accuracy: 0.9395 - val_loss: 0.3166 - val_accuracy: 0.8858\n",
            "Epoch 7/10\n",
            "625/625 [==============================] - 166s 265ms/step - loss: 0.1608 - accuracy: 0.9476 - val_loss: 0.3845 - val_accuracy: 0.8820\n",
            "Epoch 8/10\n",
            "625/625 [==============================] - 165s 264ms/step - loss: 0.1418 - accuracy: 0.9550 - val_loss: 0.4045 - val_accuracy: 0.8810\n",
            "Epoch 9/10\n",
            "625/625 [==============================] - 166s 265ms/step - loss: 0.1238 - accuracy: 0.9608 - val_loss: 0.3733 - val_accuracy: 0.8886\n",
            "Epoch 10/10\n",
            "625/625 [==============================] - 165s 264ms/step - loss: 0.1059 - accuracy: 0.9665 - val_loss: 0.6882 - val_accuracy: 0.8574\n",
            "782/782 [==============================] - 100s 127ms/step - loss: 0.3098 - accuracy: 0.8809\n",
            "Test acc: 0.881\n"
          ]
        },
        {
          "output_type": "execute_result",
          "data": {
            "text/plain": [
              "'/content/drive/MyDrive/Upload/KSUMPH/MIS64061/PYLibrary/Colab/20221114-171958'"
            ],
            "application/vnd.google.colaboratory.intrinsic+json": {
              "type": "string"
            }
          },
          "metadata": {},
          "execution_count": 7
        },
        {
          "output_type": "display_data",
          "data": {
            "text/plain": [
              "<Figure size 432x288 with 1 Axes>"
            ],
            "image/png": "[encoded data removed]"
          },
          "metadata": {
            "needs_background": "light"
          }
        },
        {
          "output_type": "display_data",
          "data": {
            "text/plain": [
              "<Figure size 432x288 with 1 Axes>"
            ],
            "image/png": "[encoded data removed]"
          },
          "metadata": {
            "needs_background": "light"
          }
        }
      ]
    },
    {
      "cell_type": "code",
      "source": [
        "# Method 1\n",
        "# Instantiating an Embedding layer\n",
        "\n",
        "embedding_layer = layers.Embedding(input_dim=max_tokens, output_dim=256)\n",
        "\n",
        "# Model that uses an Embedding layer trained from scratch\n",
        "\n",
        "inputs = keras.Input(shape=(None,), dtype=\"int64\")\n",
        "embedded = layers.Embedding(input_dim=max_tokens, output_dim=256)(inputs)\n",
        "x = layers.Bidirectional(layers.LSTM(32))(embedded)\n",
        "x = layers.Dropout(0.5)(x)\n",
        "outputs = layers.Dense(1, activation=\"sigmoid\")(x)\n",
        "model = keras.Model(inputs, outputs)\n",
        "model.compile(optimizer=\"rmsprop\",\n",
        "              loss=\"binary_crossentropy\",\n",
        "              metrics=[\"accuracy\"])\n",
        "model.summary()\n",
        "\n",
        "callbacks = [\n",
        "    keras.callbacks.ModelCheckpoint(\"embeddings_bidir_gru.keras\",\n",
        "                                    save_best_only=True)\n",
        "]\n",
        "history = model.fit(int_train_ds, validation_data=int_val_ds, epochs=10, callbacks=callbacks)\n",
        "model = keras.models.load_model(\"embeddings_bidir_gru.keras\")\n",
        "# print(f\"Test acc: {model.evaluate(int_test_ds)[1]:.3f}\")\n",
        "test_acc = model.evaluate(int_test_ds)[1]\n",
        "print(f\"Test acc: {test_acc:.3f}\")\n",
        "\n",
        "\n",
        "# Displaying curves of loss and accuracy during training\n",
        "\n",
        "import matplotlib.pyplot as plt\n",
        "accuracy = history.history[\"accuracy\"]\n",
        "val_accuracy = history.history[\"val_accuracy\"]\n",
        "loss = history.history[\"loss\"]\n",
        "val_loss = history.history[\"val_loss\"]\n",
        "epochs = range(1, len(accuracy) + 1)\n",
        "\n",
        "plt.figure()\n",
        "plt.plot(epochs, accuracy, \"bo\", label=\"Training accuracy\")\n",
        "plt.plot(epochs, val_accuracy, \"b\", label=\"Validation accuracy\")\n",
        "plt.title(\"Training and validation accuracy\")\n",
        "plt.legend()\n",
        "fig1 = plt.gcf()\n",
        "pngName = \"Method1_accuracy.png\"\n",
        "fig1.savefig(pngName)\n",
        "\n",
        "plt.figure()\n",
        "plt.plot(epochs, loss, \"bo\", label=\"Training loss\")\n",
        "plt.plot(epochs, val_loss, \"b\", label=\"Validation loss\")\n",
        "plt.title(\"Training and validation loss\")\n",
        "plt.legend()\n",
        "fig2 = plt.gcf()\n",
        "pngName = \"Method1_loss.png\"\n",
        "fig2.savefig(pngName)\n",
        "\n",
        "\n",
        "import time\n",
        "timestr = time.strftime(\"%Y%m%d-%H%M%S\")\n",
        "import contextlib\n",
        "file_path = 'stdout.txt'\n",
        "with open(file_path, \"a\") as o:\n",
        "    with contextlib.redirect_stdout(o):\n",
        "        print(f\"stdout file written time: {timestr}\")\n",
        "        print(f\"Ntrain={Ntrain}\")\n",
        "        print(f\"Nval={Nval}\")\n",
        "        print(f\"Nword={Nword}\")\n",
        "        print(f\"Ntoken={Ntoken}\")\n",
        "        print(f\"Method 1 Test accuracy: {test_acc:.3f}\")\n",
        "\n",
        "# Copying outpot files to Google Drive\n",
        "GDrivePath = \"/content/drive/MyDrive/Upload/KSUMPH/MIS64061/PYLibrary/Colab\"\n",
        "\n",
        "import time\n",
        "timestr = time.strftime(\"%Y%m%d-%H%M%S\")\n",
        "\n",
        "import os, shutil, glob\n",
        "os.mkdir(timestr)\n",
        "shutil.move(\"stdout.txt\", timestr)\n",
        "pngFiles = glob.glob(\"*.png\")\n",
        "for f in pngFiles: shutil.move(f, timestr)\n",
        "shutil.move(timestr, GDrivePath)"
      ],
      "metadata": {
        "id": "o_2PGL_HxtrQ",
        "colab": {
          "base_uri": "https://localhost:8080/",
          "height": 1000
        },
        "outputId": "c8ea4cb9-425b-4934-923a-4ae8602d1970"
      },
      "execution_count": 9,
      "outputs": [
        {
          "output_type": "stream",
          "name": "stdout",
          "text": [
            "Model: \"model_6\"\n",
            "_________________________________________________________________\n",
            " Layer (type)                Output Shape              Param #   \n",
            "=================================================================\n",
            " input_7 (InputLayer)        [(None, None)]            0         \n",
            "                                                                 \n",
            " embedding_7 (Embedding)     (None, None, 256)         5120000   \n",
            "                                                                 \n",
            " bidirectional_6 (Bidirectio  (None, 64)               73984     \n",
            " nal)                                                            \n",
            "                                                                 \n",
            " dropout_6 (Dropout)         (None, 64)                0         \n",
            "                                                                 \n",
            " dense_6 (Dense)             (None, 1)                 65        \n",
            "                                                                 \n",
            "=================================================================\n",
            "Total params: 5,194,049\n",
            "Trainable params: 5,194,049\n",
            "Non-trainable params: 0\n",
            "_________________________________________________________________\n",
            "Epoch 1/10\n",
            "625/625 [==============================] - 34s 50ms/step - loss: 0.4604 - accuracy: 0.7950 - val_loss: 0.3504 - val_accuracy: 0.8618\n",
            "Epoch 2/10\n",
            "625/625 [==============================] - 30s 47ms/step - loss: 0.3005 - accuracy: 0.8900 - val_loss: 0.4731 - val_accuracy: 0.8052\n",
            "Epoch 3/10\n",
            "625/625 [==============================] - 30s 47ms/step - loss: 0.2358 - accuracy: 0.9157 - val_loss: 0.3000 - val_accuracy: 0.8878\n",
            "Epoch 4/10\n",
            "625/625 [==============================] - 30s 47ms/step - loss: 0.1944 - accuracy: 0.9337 - val_loss: 0.3134 - val_accuracy: 0.8854\n",
            "Epoch 5/10\n",
            "625/625 [==============================] - 30s 47ms/step - loss: 0.1639 - accuracy: 0.9452 - val_loss: 0.3560 - val_accuracy: 0.8910\n",
            "Epoch 6/10\n",
            "625/625 [==============================] - 29s 47ms/step - loss: 0.1421 - accuracy: 0.9538 - val_loss: 0.3325 - val_accuracy: 0.8862\n",
            "Epoch 7/10\n",
            "625/625 [==============================] - 30s 47ms/step - loss: 0.1254 - accuracy: 0.9582 - val_loss: 0.3504 - val_accuracy: 0.8828\n",
            "Epoch 8/10\n",
            "625/625 [==============================] - 29s 47ms/step - loss: 0.0925 - accuracy: 0.9704 - val_loss: 0.4069 - val_accuracy: 0.8850\n",
            "Epoch 9/10\n",
            "625/625 [==============================] - 29s 47ms/step - loss: 0.0837 - accuracy: 0.9735 - val_loss: 0.4248 - val_accuracy: 0.8752\n",
            "Epoch 10/10\n",
            "625/625 [==============================] - 30s 48ms/step - loss: 0.0715 - accuracy: 0.9787 - val_loss: 0.4597 - val_accuracy: 0.8578\n",
            "782/782 [==============================] - 18s 22ms/step - loss: 0.3350 - accuracy: 0.8735\n",
            "Test acc: 0.873\n"
          ]
        },
        {
          "output_type": "execute_result",
          "data": {
            "text/plain": [
              "'/content/drive/MyDrive/Upload/KSUMPH/MIS64061/PYLibrary/Colab/20221114-184422'"
            ],
            "application/vnd.google.colaboratory.intrinsic+json": {
              "type": "string"
            }
          },
          "metadata": {},
          "execution_count": 9
        },
        {
          "output_type": "display_data",
          "data": {
            "text/plain": [
              "<Figure size 432x288 with 1 Axes>"
            ],
            "image/png": "[encoded data removed]"
          },
          "metadata": {
            "needs_background": "light"
          }
        },
        {
          "output_type": "display_data",
          "data": {
            "text/plain": [
              "<Figure size 432x288 with 1 Axes>"
            ],
            "image/png": "[encoded data removed]"
          },
          "metadata": {
            "needs_background": "light"
          }
        }
      ]
    },
    {
      "cell_type": "code",
      "source": [
        "# Method 2\n",
        "# Using an Embedding layer with masking enabled\n",
        "\n",
        "inputs = keras.Input(shape=(None,), dtype=\"int64\")\n",
        "embedded = layers.Embedding(\n",
        "    input_dim=max_tokens, output_dim=256, mask_zero=True)(inputs)\n",
        "x = layers.Bidirectional(layers.LSTM(32))(embedded)\n",
        "x = layers.Dropout(0.5)(x)\n",
        "outputs = layers.Dense(1, activation=\"sigmoid\")(x)\n",
        "model = keras.Model(inputs, outputs)\n",
        "model.compile(optimizer=\"rmsprop\",\n",
        "              loss=\"binary_crossentropy\",\n",
        "              metrics=[\"accuracy\"])\n",
        "model.summary()\n",
        "\n",
        "callbacks = [\n",
        "    keras.callbacks.ModelCheckpoint(\"embeddings_bidir_gru_with_masking.keras\",\n",
        "                                    save_best_only=True)\n",
        "]\n",
        "history = model.fit(int_train_ds, validation_data=int_val_ds, epochs=10, callbacks=callbacks)\n",
        "model = keras.models.load_model(\"embeddings_bidir_gru_with_masking.keras\")\n",
        "# print(f\"Test acc: {model.evaluate(int_test_ds)[1]:.3f}\")\n",
        "test_acc = model.evaluate(int_test_ds)[1]\n",
        "print(f\"Test acc: {test_acc:.3f}\")\n",
        "\n",
        "\n",
        "# Displaying curves of loss and accuracy during training\n",
        "\n",
        "import matplotlib.pyplot as plt\n",
        "accuracy = history.history[\"accuracy\"]\n",
        "val_accuracy = history.history[\"val_accuracy\"]\n",
        "loss = history.history[\"loss\"]\n",
        "val_loss = history.history[\"val_loss\"]\n",
        "epochs = range(1, len(accuracy) + 1)\n",
        "\n",
        "plt.figure()\n",
        "plt.plot(epochs, accuracy, \"bo\", label=\"Training accuracy\")\n",
        "plt.plot(epochs, val_accuracy, \"b\", label=\"Validation accuracy\")\n",
        "plt.title(\"Training and validation accuracy\")\n",
        "plt.legend()\n",
        "fig1 = plt.gcf()\n",
        "pngName = \"Method2_accuracy.png\"\n",
        "fig1.savefig(pngName)\n",
        "\n",
        "plt.figure()\n",
        "plt.plot(epochs, loss, \"bo\", label=\"Training loss\")\n",
        "plt.plot(epochs, val_loss, \"b\", label=\"Validation loss\")\n",
        "plt.title(\"Training and validation loss\")\n",
        "plt.legend()\n",
        "fig2 = plt.gcf()\n",
        "pngName = \"Method2_loss.png\"\n",
        "fig2.savefig(pngName)\n",
        "\n",
        "import time\n",
        "timestr = time.strftime(\"%Y%m%d-%H%M%S\")\n",
        "import contextlib\n",
        "file_path = 'stdout.txt'\n",
        "with open(file_path, \"a\") as o:\n",
        "    with contextlib.redirect_stdout(o):\n",
        "        print(f\"stdout file written time: {timestr}\")\n",
        "        print(f\"Ntrain={Ntrain}\")\n",
        "        print(f\"Nval={Nval}\")\n",
        "        print(f\"Nword={Nword}\")\n",
        "        print(f\"Ntoken={Ntoken}\")\n",
        "        print(f\"Method 2 Test accuracy: {test_acc:.3f}\")\n",
        "\n",
        "# Copying outpot files to Google Drive\n",
        "GDrivePath = \"/content/drive/MyDrive/Upload/KSUMPH/MIS64061/PYLibrary/Colab\"\n",
        "\n",
        "import time\n",
        "timestr = time.strftime(\"%Y%m%d-%H%M%S\")\n",
        "\n",
        "import os, shutil, glob\n",
        "os.mkdir(timestr)\n",
        "shutil.move(\"stdout.txt\", timestr)\n",
        "pngFiles = glob.glob(\"*.png\")\n",
        "for f in pngFiles: shutil.move(f, timestr)\n",
        "shutil.move(timestr, GDrivePath)\n"
      ],
      "metadata": {
        "id": "Hy8pl0ZNx9PR",
        "colab": {
          "base_uri": "https://localhost:8080/",
          "height": 1000
        },
        "outputId": "f1b64fc4-4cd5-4eb1-cb21-1808fcbe645d"
      },
      "execution_count": 10,
      "outputs": [
        {
          "output_type": "stream",
          "name": "stdout",
          "text": [
            "Model: \"model_7\"\n",
            "_________________________________________________________________\n",
            " Layer (type)                Output Shape              Param #   \n",
            "=================================================================\n",
            " input_8 (InputLayer)        [(None, None)]            0         \n",
            "                                                                 \n",
            " embedding_8 (Embedding)     (None, None, 256)         5120000   \n",
            "                                                                 \n",
            " bidirectional_7 (Bidirectio  (None, 64)               73984     \n",
            " nal)                                                            \n",
            "                                                                 \n",
            " dropout_7 (Dropout)         (None, 64)                0         \n",
            "                                                                 \n",
            " dense_7 (Dense)             (None, 1)                 65        \n",
            "                                                                 \n",
            "=================================================================\n",
            "Total params: 5,194,049\n",
            "Trainable params: 5,194,049\n",
            "Non-trainable params: 0\n",
            "_________________________________________________________________\n",
            "Epoch 1/10\n",
            "625/625 [==============================] - 39s 52ms/step - loss: 0.3902 - accuracy: 0.8242 - val_loss: 0.2660 - val_accuracy: 0.8950\n",
            "Epoch 2/10\n",
            "625/625 [==============================] - 30s 48ms/step - loss: 0.2237 - accuracy: 0.9140 - val_loss: 0.2651 - val_accuracy: 0.8966\n",
            "Epoch 3/10\n",
            "625/625 [==============================] - 30s 48ms/step - loss: 0.1622 - accuracy: 0.9402 - val_loss: 0.2872 - val_accuracy: 0.8924\n",
            "Epoch 4/10\n",
            "625/625 [==============================] - 30s 48ms/step - loss: 0.1145 - accuracy: 0.9589 - val_loss: 0.3372 - val_accuracy: 0.8830\n",
            "Epoch 5/10\n",
            "625/625 [==============================] - 30s 48ms/step - loss: 0.0893 - accuracy: 0.9691 - val_loss: 0.3457 - val_accuracy: 0.8780\n",
            "Epoch 6/10\n",
            "625/625 [==============================] - 30s 48ms/step - loss: 0.0624 - accuracy: 0.9786 - val_loss: 0.4016 - val_accuracy: 0.8780\n",
            "Epoch 7/10\n",
            "625/625 [==============================] - 30s 48ms/step - loss: 0.0451 - accuracy: 0.9860 - val_loss: 0.4707 - val_accuracy: 0.8880\n",
            "Epoch 8/10\n",
            "625/625 [==============================] - 31s 49ms/step - loss: 0.0337 - accuracy: 0.9899 - val_loss: 0.5052 - val_accuracy: 0.8818\n",
            "Epoch 9/10\n",
            "625/625 [==============================] - 30s 48ms/step - loss: 0.0246 - accuracy: 0.9919 - val_loss: 0.5677 - val_accuracy: 0.8776\n",
            "Epoch 10/10\n",
            "625/625 [==============================] - 30s 49ms/step - loss: 0.0196 - accuracy: 0.9936 - val_loss: 0.6140 - val_accuracy: 0.8800\n",
            "782/782 [==============================] - 23s 26ms/step - loss: 0.2991 - accuracy: 0.8750\n",
            "Test acc: 0.875\n"
          ]
        },
        {
          "output_type": "execute_result",
          "data": {
            "text/plain": [
              "'/content/drive/MyDrive/Upload/KSUMPH/MIS64061/PYLibrary/Colab/20221114-190552'"
            ],
            "application/vnd.google.colaboratory.intrinsic+json": {
              "type": "string"
            }
          },
          "metadata": {},
          "execution_count": 10
        },
        {
          "output_type": "display_data",
          "data": {
            "text/plain": [
              "<Figure size 432x288 with 1 Axes>"
            ],
            "image/png": "[encoded data removed]"
          },
          "metadata": {
            "needs_background": "light"
          }
        },
        {
          "output_type": "display_data",
          "data": {
            "text/plain": [
              "<Figure size 432x288 with 1 Axes>"
            ],
            "image/png": "[encoded data removed]"
          },
          "metadata": {
            "needs_background": "light"
          }
        }
      ]
    },
    {
      "cell_type": "code",
      "source": [
        "# Method 3\n",
        "# Using pretrained word embeddings\n",
        "\n",
        "# Parsing the GloVe word-embeddings file\n",
        "import numpy as np\n",
        "path_to_glove_file = \"glove.6B.100d.txt\"\n",
        "\n",
        "embeddings_index = {}\n",
        "with open(path_to_glove_file) as f:\n",
        "    for line in f:\n",
        "        word, coefs = line.split(maxsplit=1)\n",
        "        coefs = np.fromstring(coefs, \"f\", sep=\" \")\n",
        "        embeddings_index[word] = coefs\n",
        "\n",
        "print(f\"Found {len(embeddings_index)} word vectors.\")\n",
        "\n",
        "# Preparing the GloVe word-embeddings matrix\n",
        "embedding_dim = 100\n",
        "\n",
        "vocabulary = text_vectorization.get_vocabulary()\n",
        "word_index = dict(zip(vocabulary, range(len(vocabulary))))\n",
        "\n",
        "embedding_matrix = np.zeros((max_tokens, embedding_dim))\n",
        "for word, i in word_index.items():\n",
        "    if i < max_tokens:\n",
        "        embedding_vector = embeddings_index.get(word)\n",
        "    if embedding_vector is not None:\n",
        "        embedding_matrix[i] = embedding_vector\n",
        "embedding_layer = layers.Embedding(\n",
        "    max_tokens,\n",
        "    embedding_dim,\n",
        "    embeddings_initializer=keras.initializers.Constant(embedding_matrix),\n",
        "    trainable=False,\n",
        "    mask_zero=True,\n",
        ")\n",
        "\n",
        "# Model that uses a pretrained Embedding layer\n",
        "\n",
        "inputs = keras.Input(shape=(None,), dtype=\"int64\")\n",
        "embedded = embedding_layer(inputs)\n",
        "x = layers.Bidirectional(layers.LSTM(32))(embedded)\n",
        "x = layers.Dropout(0.5)(x)\n",
        "outputs = layers.Dense(1, activation=\"sigmoid\")(x)\n",
        "model = keras.Model(inputs, outputs)\n",
        "model.compile(optimizer=\"rmsprop\",\n",
        "              loss=\"binary_crossentropy\",\n",
        "              metrics=[\"accuracy\"])\n",
        "model.summary()\n",
        "\n",
        "callbacks = [\n",
        "    keras.callbacks.ModelCheckpoint(\"glove_embeddings_sequence_model.keras\",\n",
        "                                    save_best_only=True)\n",
        "]\n",
        "history = model.fit(int_train_ds, validation_data=int_val_ds, epochs=10, callbacks=callbacks)\n",
        "model = keras.models.load_model(\"glove_embeddings_sequence_model.keras\")\n",
        "# print(f\"Test acc: {model.evaluate(int_test_ds)[1]:.3f}\")\n",
        "test_acc = model.evaluate(int_test_ds)[1]\n",
        "print(f\"Test acc: {test_acc:.3f}\")\n",
        "\n",
        "\n",
        "# Displaying curves of loss and accuracy during training\n",
        "\n",
        "import matplotlib.pyplot as plt\n",
        "accuracy = history.history[\"accuracy\"]\n",
        "val_accuracy = history.history[\"val_accuracy\"]\n",
        "loss = history.history[\"loss\"]\n",
        "val_loss = history.history[\"val_loss\"]\n",
        "epochs = range(1, len(accuracy) + 1)\n",
        "\n",
        "plt.figure()\n",
        "plt.plot(epochs, accuracy, \"bo\", label=\"Training accuracy\")\n",
        "plt.plot(epochs, val_accuracy, \"b\", label=\"Validation accuracy\")\n",
        "plt.title(\"Training and validation accuracy\")\n",
        "plt.legend()\n",
        "fig1 = plt.gcf()\n",
        "pngName = \"Method3_accuracy.png\"\n",
        "fig1.savefig(pngName)\n",
        "\n",
        "plt.figure()\n",
        "plt.plot(epochs, loss, \"bo\", label=\"Training loss\")\n",
        "plt.plot(epochs, val_loss, \"b\", label=\"Validation loss\")\n",
        "plt.title(\"Training and validation loss\")\n",
        "plt.legend()\n",
        "fig2 = plt.gcf()\n",
        "pngName = \"Method3_loss.png\"\n",
        "fig2.savefig(pngName)\n",
        "\n",
        "\n",
        "import time\n",
        "timestr = time.strftime(\"%Y%m%d-%H%M%S\")\n",
        "import contextlib\n",
        "file_path = 'stdout.txt'\n",
        "with open(file_path, \"a\") as o:\n",
        "    with contextlib.redirect_stdout(o):\n",
        "        print(f\"stdout file written time: {timestr}\")\n",
        "        print(f\"Ntrain={Ntrain}\")\n",
        "        print(f\"Nval={Nval}\")\n",
        "        print(f\"Nword={Nword}\")\n",
        "        print(f\"Ntoken={Ntoken}\")\n",
        "        print(f\"Method 3 Test accuracy: {test_acc:.3f}\")\n",
        "\n",
        "# Copying outpot files to Google Drive\n",
        "GDrivePath = \"/content/drive/MyDrive/Upload/KSUMPH/MIS64061/PYLibrary/Colab\"\n",
        "\n",
        "import time\n",
        "timestr = time.strftime(\"%Y%m%d-%H%M%S\")\n",
        "\n",
        "import os, shutil, glob\n",
        "os.mkdir(timestr)\n",
        "shutil.move(\"stdout.txt\", timestr)\n",
        "pngFiles = glob.glob(\"*.png\")\n",
        "for f in pngFiles: shutil.move(f, timestr)\n",
        "shutil.move(timestr, GDrivePath)"
      ],
      "metadata": {
        "id": "XDRKYTpEyJHx",
        "colab": {
          "base_uri": "https://localhost:8080/",
          "height": 1000
        },
        "outputId": "98731997-d268-42a2-b31f-d4c041f42d11"
      },
      "execution_count": 11,
      "outputs": [
        {
          "output_type": "stream",
          "name": "stdout",
          "text": [
            "Found 400000 word vectors.\n",
            "Model: \"model_8\"\n",
            "_________________________________________________________________\n",
            " Layer (type)                Output Shape              Param #   \n",
            "=================================================================\n",
            " input_9 (InputLayer)        [(None, None)]            0         \n",
            "                                                                 \n",
            " embedding_9 (Embedding)     (None, None, 100)         2000000   \n",
            "                                                                 \n",
            " bidirectional_8 (Bidirectio  (None, 64)               34048     \n",
            " nal)                                                            \n",
            "                                                                 \n",
            " dropout_8 (Dropout)         (None, 64)                0         \n",
            "                                                                 \n",
            " dense_8 (Dense)             (None, 1)                 65        \n",
            "                                                                 \n",
            "=================================================================\n",
            "Total params: 2,034,113\n",
            "Trainable params: 34,113\n",
            "Non-trainable params: 2,000,000\n",
            "_________________________________________________________________\n",
            "Epoch 1/10\n",
            "625/625 [==============================] - 38s 50ms/step - loss: 0.5729 - accuracy: 0.6942 - val_loss: 0.4800 - val_accuracy: 0.7674\n",
            "Epoch 2/10\n",
            "625/625 [==============================] - 29s 47ms/step - loss: 0.4511 - accuracy: 0.7928 - val_loss: 0.4037 - val_accuracy: 0.8158\n",
            "Epoch 3/10\n",
            "625/625 [==============================] - 27s 43ms/step - loss: 0.3968 - accuracy: 0.8249 - val_loss: 0.4088 - val_accuracy: 0.8076\n",
            "Epoch 4/10\n",
            "625/625 [==============================] - 28s 45ms/step - loss: 0.3598 - accuracy: 0.8455 - val_loss: 0.3695 - val_accuracy: 0.8420\n",
            "Epoch 5/10\n",
            "625/625 [==============================] - 29s 46ms/step - loss: 0.3316 - accuracy: 0.8595 - val_loss: 0.3496 - val_accuracy: 0.8426\n",
            "Epoch 6/10\n",
            "625/625 [==============================] - 28s 45ms/step - loss: 0.3118 - accuracy: 0.8697 - val_loss: 0.3232 - val_accuracy: 0.8588\n",
            "Epoch 7/10\n",
            "625/625 [==============================] - 28s 45ms/step - loss: 0.2944 - accuracy: 0.8776 - val_loss: 0.3120 - val_accuracy: 0.8716\n",
            "Epoch 8/10\n",
            "625/625 [==============================] - 28s 45ms/step - loss: 0.2793 - accuracy: 0.8859 - val_loss: 0.3079 - val_accuracy: 0.8668\n",
            "Epoch 9/10\n",
            "625/625 [==============================] - 28s 45ms/step - loss: 0.2651 - accuracy: 0.8913 - val_loss: 0.2999 - val_accuracy: 0.8716\n",
            "Epoch 10/10\n",
            "625/625 [==============================] - 27s 42ms/step - loss: 0.2522 - accuracy: 0.8978 - val_loss: 0.3008 - val_accuracy: 0.8760\n",
            "782/782 [==============================] - 17s 19ms/step - loss: 0.2951 - accuracy: 0.8763\n",
            "Test acc: 0.876\n"
          ]
        },
        {
          "output_type": "execute_result",
          "data": {
            "text/plain": [
              "'/content/drive/MyDrive/Upload/KSUMPH/MIS64061/PYLibrary/Colab/20221114-193849'"
            ],
            "application/vnd.google.colaboratory.intrinsic+json": {
              "type": "string"
            }
          },
          "metadata": {},
          "execution_count": 11
        },
        {
          "output_type": "display_data",
          "data": {
            "text/plain": [
              "<Figure size 432x288 with 1 Axes>"
            ],
            "image/png": "[encoded data removed]"
          },
          "metadata": {
            "needs_background": "light"
          }
        },
        {
          "output_type": "display_data",
          "data": {
            "text/plain": [
              "<Figure size 432x288 with 1 Axes>"
            ],
            "image/png": "[encoded data removed]"
          },
          "metadata": {
            "needs_background": "light"
          }
        }
      ]
    }
  ]
}