{
  "nbformat": 4,
  "nbformat_minor": 0,
  "metadata": {
    "colab": {
      "provenance": [],
      "machine_shape": "hm",
      "include_colab_link": true
    },
    "kernelspec": {
      "name": "python3",
      "display_name": "Python 3"
    },
    "language_info": {
      "name": "python"
    },
    "accelerator": "GPU"
  },
  "cells": [
    {
      "cell_type": "markdown",
      "metadata": {
        "id": "view-in-github",
        "colab_type": "text"
      },
      "source": [
        "<a href=\"https://colab.research.google.com/github/ktshih/ktshih_64061/blob/main/Assignment%201/Shih_Assignment1.ipynb\" target=\"_parent\"><img src=\"https://colab.research.google.com/assets/colab-badge.svg\" alt=\"Open In Colab\"/></a>"
      ]
    },
    {
      "cell_type": "code",
      "execution_count": null,
      "metadata": {
        "id": "JiJPuVDyWOMb"
      },
      "outputs": [],
      "source": [
        "#################################################\n",
        "# Advanced Machine Learning                     #\n",
        "# Assignment 1 - Neural Network - IMDB data set #\n",
        "# Name: Kueitsung (Philips) Shih                #\n",
        "# Due Date: 10/02/2022                          #\n",
        "#################################################\n",
        "\n",
        "# Using the IMDB data set\n",
        "\n",
        "from tensorflow.keras.datasets import imdb\n",
        "(train_data, train_labels), (test_data, test_labels) = imdb.load_data(num_words=10000)\n",
        "\n",
        "# Encoding the integer sequences via multi-hot encoding\n",
        "\n",
        "import numpy as np\n",
        "def vectorize_sequences(sequences, dimension=10000):\n",
        "    results = np.zeros((len(sequences), dimension))\n",
        "    for i, sequence in enumerate(sequences):\n",
        "        for j in sequence:\n",
        "            results[i, j] = 1.\n",
        "    return results\n",
        "\n",
        "# Storing data in vectors\n",
        "\n",
        "x_train = vectorize_sequences(train_data)\n",
        "x_test = vectorize_sequences(test_data)\n",
        "\n",
        "# Converting lables into floating-point numerical values\n",
        "\n",
        "y_train = np.asarray(train_labels).astype(\"float32\")\n",
        "y_test = np.asarray(test_labels).astype(\"float32\")\n",
        "\n",
        "# Setting aside a validation set\n",
        "\n",
        "x_val = x_train[:10000]\n",
        "partial_x_train = x_train[10000:]\n",
        "y_val = y_train[:10000]\n",
        "partial_y_train = y_train[10000:]"
      ]
    },
    {
      "cell_type": "code",
      "source": [
        "# Model information\n",
        "\n",
        "from tensorflow import keras\n",
        "from tensorflow.keras import layers\n",
        "\n",
        "# Model from textbook example\n",
        "\n",
        "model = keras.Sequential([\n",
        "    layers.Dense(16, activation=\"relu\"),\n",
        "    layers.Dense(16, activation=\"relu\"),\n",
        "    layers.Dense(1, activation=\"sigmoid\")\n",
        "])\n",
        "\n",
        "# Model using different number of layers (1,2,3,4)\n",
        "\n",
        "# model = keras.Sequential([\n",
        "#     layers.Dense(16, activation=\"relu\"),\n",
        "#     layers.Dense(16, activation=\"relu\"),\n",
        "#     layers.Dense(16, activation=\"relu\"),\n",
        "#     layers.Dense(16, activation=\"relu\"),\n",
        "#     layers.Dense(1, activation=\"sigmoid\")\n",
        "# ])\n",
        "\n",
        "# Model using different number of units per layer (8,16,32,64)\n",
        "\n",
        "# model = keras.Sequential([\n",
        "#     layers.Dense(64, activation=\"relu\"),\n",
        "#     layers.Dense(64, activation=\"relu\"),\n",
        "#     layers.Dense(1, activation=\"sigmoid\")\n",
        "# ])\n",
        "\n",
        "# Model using tanh activation function\n",
        "\n",
        "# model = keras.Sequential([\n",
        "#     layers.Dense(16, activation=\"tanh\"),\n",
        "#     layers.Dense(16, activation=\"tanh\"),\n",
        "#     layers.Dense(1, activation=\"sigmoid\")\n",
        "# ])\n",
        "\n",
        "# Model using regulization (L1:0.001,0.002,0.005,0.01; L2:0.001,0.002,0.005,0.01)\n",
        "\n",
        "# from tensorflow.keras import regularizers\n",
        "\n",
        "# model = keras.Sequential([\n",
        "#     layers.Dense(16, kernel_regularizer=regularizers.L2(0.01), activation=\"relu\"),\n",
        "#     layers.Dense(16, kernel_regularizer=regularizers.L2(0.01), activation=\"relu\"),\n",
        "#     layers.Dense(1, activation=\"sigmoid\")\n",
        "# ])\n",
        "\n",
        "# Model using dropout (0.1,0.2,0.5,0.7)\n",
        "\n",
        "# model = keras.Sequential([\n",
        "#     layers.Dense(16, activation=\"relu\"),\n",
        "#     layers.Dropout(0.7),\n",
        "#     layers.Dense(16, activation=\"relu\"),\n",
        "#     layers.Dropout(0.7),\n",
        "#     layers.Dense(1, activation=\"sigmoid\")\n",
        "# ])\n"
      ],
      "metadata": {
        "id": "hDEZVmzyj8Xt"
      },
      "execution_count": null,
      "outputs": []
    },
    {
      "cell_type": "code",
      "source": [
        "# Compiling the model\n",
        "# Using adam optimizer\n",
        "\n",
        "# Model using binary_crossentropy loss function\n",
        "\n",
        "model.compile(optimizer=\"adam\",\n",
        "              loss=\"binary_crossentropy\",\n",
        "              metrics=[\"accuracy\"])\n",
        "\n",
        "# Model using mse loss function\n",
        "\n",
        "# model.compile(optimizer=\"adam\",\n",
        "#               loss=\"mse\",\n",
        "#               metrics=[\"accuracy\"])\n",
        "\n"
      ],
      "metadata": {
        "id": "y0giJuUvkCJ-"
      },
      "execution_count": null,
      "outputs": []
    },
    {
      "cell_type": "code",
      "source": [
        "# Training the model\n",
        "\n",
        "history = model.fit(partial_x_train,\n",
        "                    partial_y_train,\n",
        "                    epochs=20,\n",
        "                    batch_size=512,\n",
        "                    validation_data=(x_val, y_val))\n",
        "\n",
        "history_dict = history.history\n",
        "loss_values = history_dict[\"loss\"]\n",
        "val_loss_values = history_dict[\"val_loss\"]\n",
        "acc = history_dict[\"accuracy\"]\n",
        "val_acc = history_dict[\"val_accuracy\"]\n"
      ],
      "metadata": {
        "id": "SSVWao0FkQyH"
      },
      "execution_count": null,
      "outputs": []
    },
    {
      "cell_type": "code",
      "source": [
        "# Plotting the training and validation loss\n",
        "\n",
        "import matplotlib.pyplot as plt\n",
        "epochs = range(1, len(loss_values) + 1)\n",
        "plt.plot(epochs, loss_values, \"bo\", label=\"Training loss\")\n",
        "plt.plot(epochs, val_loss_values, \"b\", label=\"Validation loss\")\n",
        "plt.title(\"Training and validation loss\")\n",
        "plt.xlabel(\"Epochs\")\n",
        "plt.ylabel(\"Loss\")\n",
        "plt.legend()\n",
        "plt.show()"
      ],
      "metadata": {
        "id": "erp-lC5gkmBH"
      },
      "execution_count": null,
      "outputs": []
    },
    {
      "cell_type": "code",
      "source": [
        "# Plotting the training and valication accuracy\n",
        "\n",
        "plt.clf()\n",
        "plt.plot(epochs, acc, \"bo\", label=\"Training acc\")\n",
        "plt.plot(epochs, val_acc, \"b\", label=\"Validation acc\")\n",
        "plt.title(\"Training and validation accuracy\")\n",
        "plt.xlabel(\"Epochs\")\n",
        "plt.ylabel(\"Accuracy\")\n",
        "plt.legend()\n",
        "plt.show()"
      ],
      "metadata": {
        "id": "syC8Hx-Ikt93"
      },
      "execution_count": null,
      "outputs": []
    },
    {
      "cell_type": "code",
      "source": [
        "# Retraining the model from scratch\n",
        "\n",
        "model.fit(x_train, y_train, epochs=14, batch_size=512)\n",
        "results = model.evaluate(x_test, y_test)\n",
        "results"
      ],
      "metadata": {
        "id": "JEjabxSkkzP1"
      },
      "execution_count": null,
      "outputs": []
    },
    {
      "cell_type": "code",
      "source": [
        "# Using the trained model to generate predictions\n",
        "\n",
        "predicted = model.predict(x_test)\n",
        "predicted_round = np.around(predicted, 0)\n",
        "error = predicted_round.flatten('C') - y_test.flatten('C')\n",
        "predicted_accuracy = 1. - np.sum(np.abs(error))/len(error)\n",
        "predicted_accuracy"
      ],
      "metadata": {
        "id": "jypudu66lIsj"
      },
      "execution_count": null,
      "outputs": []
    }
  ]
}